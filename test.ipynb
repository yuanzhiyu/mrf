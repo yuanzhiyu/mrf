{
 "cells": [
  {
   "cell_type": "code",
   "execution_count": 85,
   "metadata": {},
   "outputs": [],
   "source": [
    "import numpy as np\n",
    "import pandas as pd\n",
    "\n",
    "dataset = 'adult'\n",
    "data = np.array(pd.read_csv(f'data/{dataset}/{dataset}.data', sep=',', header=None, skiprows=0))\n",
    "# type = list(pd.read_csv(f'data/{dataset}/type.data', sep=',', header=None, skiprows=0).values.flatten())"
   ]
  },
  {
   "cell_type": "code",
   "execution_count": 86,
   "metadata": {},
   "outputs": [
    {
     "data": {
      "text/plain": [
       "(48842, 15)"
      ]
     },
     "execution_count": 86,
     "metadata": {},
     "output_type": "execute_result"
    }
   ],
   "source": [
    "data.shape"
   ]
  },
  {
   "cell_type": "code",
   "execution_count": 84,
   "metadata": {},
   "outputs": [],
   "source": [
    "import csv\n",
    "\n",
    "# 给定列表\n",
    "data_list = ['c'] * 147\n",
    "\n",
    "output_file = f'data/{dataset}/type.data'  # 输出 CSV 文件\n",
    "\n",
    "# 写入 CSV 文件\n",
    "with open(output_file, 'w', newline='') as outfile:\n",
    "    writer = csv.writer(outfile)\n",
    "    writer.writerow(data_list)  # 将列表作为一行写入文件\n"
   ]
  },
  {
   "cell_type": "code",
   "execution_count": 71,
   "metadata": {},
   "outputs": [],
   "source": [
    "input_file = './data/gisette/gisette_valid.data'  # 原始文件\n",
    "output_file = './data/gisette/gisette_valid1.data'  # 修改后的文件\n",
    "\n",
    "# 读取原始文件\n",
    "with open(input_file, 'r') as f:\n",
    "    lines = f.readlines()\n",
    "\n",
    "# 将每一行中的空格替换为逗号\n",
    "modified_lines = [','.join(line.strip().split()) + '\\n' for line in lines]\n",
    "\n",
    "# 将修改后的内容写入新文件\n",
    "with open(output_file, 'w') as f:\n",
    "    f.writelines(modified_lines)\n"
   ]
  },
  {
   "cell_type": "code",
   "execution_count": 46,
   "metadata": {},
   "outputs": [],
   "source": [
    "import csv\n",
    "\n",
    "input_file = './data/yeast/yeast.data'  # 输入 CSV 文件\n",
    "output_file = './data/yeast/yeast1.data'  # 输出 CSV 文件，不包含第一列\n",
    "\n",
    "# 读取输入 CSV 文件\n",
    "with open(input_file, 'r') as infile:\n",
    "    reader = csv.reader(infile)\n",
    "\n",
    "    # 创建输出 CSV 文件，不包含第一列\n",
    "    with open(output_file, 'w', newline='') as outfile:\n",
    "        writer = csv.writer(outfile)\n",
    "\n",
    "        for row in reader:\n",
    "            # 从第二列开始写入数据\n",
    "            writer.writerow(row[1:])\n"
   ]
  },
  {
   "cell_type": "code",
   "execution_count": 81,
   "metadata": {},
   "outputs": [],
   "source": [
    "import csv\n",
    "\n",
    "input_file = './data/land-cover/land-cover1.data'  # 输入 CSV 文件\n",
    "output_file = './data/land-cover/land-cover3.data'  # 输出 CSV 文件，第一列移到最后一列\n",
    "\n",
    "# 读取输入 CSV 文件\n",
    "with open(input_file, 'r') as infile:\n",
    "    reader = csv.reader(infile)\n",
    "\n",
    "    # 创建输出 CSV 文件，将第一列移到最后一列\n",
    "    with open(output_file, 'w', newline='') as outfile:\n",
    "        writer = csv.writer(outfile)\n",
    "\n",
    "        for row in reader:\n",
    "            # 将第一列移到最后一列\n",
    "            modified_row = row[1:] + [row[0]]\n",
    "            writer.writerow(modified_row)"
   ]
  },
  {
   "cell_type": "code",
   "execution_count": 73,
   "metadata": {},
   "outputs": [],
   "source": [
    "import csv\n",
    "\n",
    "input_file1 = './data/gisette/gisette_train1.data'  # 第一个输入 CSV 文件\n",
    "input_file2 = './data/gisette/gisette_train.labels'  # 第二个输入 CSV 文件\n",
    "output_file = './data/gisette/gisette_train2.data'  # 输出 CSV 文件，合并后的内容\n",
    "\n",
    "# 读取输入 CSV 文件\n",
    "with open(input_file1, 'r') as infile1, open(input_file2, 'r') as infile2:\n",
    "    reader1 = csv.reader(infile1)\n",
    "    reader2 = csv.reader(infile2)\n",
    "\n",
    "    # 创建输出 CSV 文件，将第二个 CSV 文件的内容作为第一个文件内容的最后一列\n",
    "    with open(output_file, 'w', newline='') as outfile:\n",
    "        writer = csv.writer(outfile)\n",
    "\n",
    "        for row1, row2 in zip(reader1, reader2):\n",
    "            # 将两个 CSV 文件的行连接在一起\n",
    "            combined_row = row1 + row2\n",
    "            writer.writerow(combined_row)\n"
   ]
  },
  {
   "cell_type": "code",
   "execution_count": null,
   "metadata": {},
   "outputs": [],
   "source": []
  }
 ],
 "metadata": {
  "kernelspec": {
   "display_name": "Python 3",
   "language": "python",
   "name": "python3"
  },
  "language_info": {
   "codemirror_mode": {
    "name": "ipython",
    "version": 3
   },
   "file_extension": ".py",
   "mimetype": "text/x-python",
   "name": "python",
   "nbconvert_exporter": "python",
   "pygments_lexer": "ipython3",
   "version": "3.10.10"
  },
  "orig_nbformat": 4
 },
 "nbformat": 4,
 "nbformat_minor": 2
}
